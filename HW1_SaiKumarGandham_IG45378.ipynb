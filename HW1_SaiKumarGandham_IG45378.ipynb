{
 "cells": [
  {
   "cell_type": "markdown",
   "id": "56969520",
   "metadata": {},
   "source": [
    "#### Name : Sai Kumar Gandham\n",
    "#### Student ID: IG45378\n"
   ]
  },
  {
   "cell_type": "code",
   "execution_count": 7,
   "id": "aec84bee",
   "metadata": {},
   "outputs": [
    {
     "name": "stdout",
     "output_type": "stream",
     "text": [
      "showing info https://raw.githubusercontent.com/nltk/nltk_data/gh-pages/index.xml\n"
     ]
    },
    {
     "data": {
      "text/plain": [
       "True"
      ]
     },
     "execution_count": 7,
     "metadata": {},
     "output_type": "execute_result"
    }
   ],
   "source": [
    ">>> import nltk\n",
    ">>> nltk.download()"
   ]
  },
  {
   "cell_type": "code",
   "execution_count": 8,
   "id": "77755fdb",
   "metadata": {},
   "outputs": [
    {
     "name": "stdout",
     "output_type": "stream",
     "text": [
      "*** Introductory Examples for the NLTK Book ***\n",
      "Loading text1, ..., text9 and sent1, ..., sent9\n",
      "Type the name of the text or sentence to view it.\n",
      "Type: 'texts()' or 'sents()' to list the materials.\n",
      "text1: Moby Dick by Herman Melville 1851\n",
      "text2: Sense and Sensibility by Jane Austen 1811\n",
      "text3: The Book of Genesis\n",
      "text4: Inaugural Address Corpus\n",
      "text5: Chat Corpus\n",
      "text6: Monty Python and the Holy Grail\n",
      "text7: Wall Street Journal\n",
      "text8: Personals Corpus\n",
      "text9: The Man Who Was Thursday by G . K . Chesterton 1908\n"
     ]
    }
   ],
   "source": [
    ">>> from nltk.book import *"
   ]
  },
  {
   "cell_type": "markdown",
   "id": "16a3c2aa",
   "metadata": {},
   "source": [
    "1.Produce a dispersion plot of the four main protagonists in Sense and Sensibility: Elinor, Marianne, Edward, and Willoughby. What can you observe about the different roles played by the males and females in this novel? Can you identify the couples?"
   ]
  },
  {
   "cell_type": "code",
   "execution_count": 38,
   "id": "829b19a9",
   "metadata": {},
   "outputs": [
    {
     "data": {
      "image/png": "[encoded data removed]",
      "text/plain": [
       "<Figure size 640x480 with 1 Axes>"
      ]
     },
     "metadata": {},
     "output_type": "display_data"
    }
   ],
   "source": [
    "import matplotlib.pyplot as plt\n",
    "text2.dispersion_plot(['Elinor', 'Marianne', 'Edward', 'Willoughby'])"
   ]
  },
  {
   "cell_type": "markdown",
   "id": "d7d973ea",
   "metadata": {},
   "source": [
    "2.The first sentence of text3 is provided to you in the variable sent3. The index of the in sent3 is 1, because sent3[1] gives us 'the'. What are the indexes of the two other occurrences of this word in sent3?\n"
   ]
  },
  {
   "cell_type": "code",
   "execution_count": 35,
   "id": "686af0db",
   "metadata": {},
   "outputs": [
    {
     "name": "stdout",
     "output_type": "stream",
     "text": [
      "['In', 'the', 'beginning', 'God', 'created', 'the', 'heaven', 'and', 'the', 'earth', '.']\n"
     ]
    }
   ],
   "source": [
    "from nltk.book import text3\n",
    "\n",
    "# The first sentence of text3\n",
    "sent3 = text3[:11]\n",
    "print(sent3)"
   ]
  },
  {
   "cell_type": "code",
   "execution_count": 36,
   "id": "79bd2f1c",
   "metadata": {},
   "outputs": [
    {
     "name": "stdout",
     "output_type": "stream",
     "text": [
      "Indexes of 'the' in sent3: [1, 5, 8]\n"
     ]
    }
   ],
   "source": [
    "\n",
    "# Finding the indexes of all occurrences of 'the' in sent3\n",
    "indexes_of_the = [index for index, word in enumerate(sent3) if word == 'the']\n",
    "\n",
    "# Print the indexes\n",
    "print(\"Indexes of 'the' in sent3:\", indexes_of_the)\n"
   ]
  },
  {
   "cell_type": "markdown",
   "id": "abc58227",
   "metadata": {},
   "source": [
    "3.Use text9.index() to find the index of the word sunset. You’ll need to insert this word as an argument between the parentheses. By a process of trial and error, find the slice for the complete sentence that contains this word.\n"
   ]
  },
  {
   "cell_type": "code",
   "execution_count": 14,
   "id": "76068291",
   "metadata": {},
   "outputs": [
    {
     "name": "stdout",
     "output_type": "stream",
     "text": [
      "Index of 'sunset': 629\n",
      "Complete sentence containing 'sunset':\n",
      "SAFFRON PARK THE suburb of Saffron Park lay on the sunset side of London , as red and ragged as a cloud of sunset .\n"
     ]
    }
   ],
   "source": [
    "# Load the text \"The Man Who Was Thursday\" by G.K. Chesterton\n",
    "from nltk.book import text9\n",
    "\n",
    "# Find the index of the word 'sunset'\n",
    "sunset_index = text9.index('sunset')\n",
    "print(\"Index of 'sunset':\", sunset_index)\n",
    "\n",
    "#As mentioned in the question let's start with Trial and error to find the slice for the complete sentence containing 'sunset'\n",
    "# Here We are expanding the slice until we cover the complete sentence\n",
    "# Let's Start by including a few words before and after 'sunset'\n",
    "sentence_slice = text9[sunset_index - 10: sunset_index + 15]\n",
    "\n",
    "# Here we are Printing the complete sentence\n",
    "print(\"Complete sentence containing 'sunset':\")\n",
    "print(' '.join(sentence_slice))\n"
   ]
  },
  {
   "cell_type": "markdown",
   "id": "5388dc4f",
   "metadata": {},
   "source": [
    "4. What is the difference between the following two tests: w.isupper() and not w.islower()?\n"
   ]
  },
  {
   "cell_type": "markdown",
   "id": "5c6ec4fa",
   "metadata": {},
   "source": [
    "The difference between the two tests w.isupper() and not w.islower() lies in the characters they consider for evaluation.\n",
    "\n",
    "1. w.isupper():  This method returns True if all the characters in the string w are uppercase letters. For example, \"HELLO\".isupper() would return True because all letters in the string are uppercase.\n",
    "\n",
    "2. not w.islower():  This condition checks if the string w contains at least one character that is not a lowercase letter. If there's at least one non-lowercase letter, then not w.islower() will return True. This condition could be True for strings containing any uppercase letters, digits, special characters, or whitespace.\n",
    "\n",
    "In summary we can say that:\n",
    "- w.isupper() returns True only if all characters in w are uppercase.\n",
    "- not w.islower() returns True if w contains at least one character that is not a lowercase letter.\n"
   ]
  },
  {
   "cell_type": "markdown",
   "id": "611e1ffa",
   "metadata": {},
   "source": [
    "5. Define a function percent(word, text) that calculates how often a given word occurs in a text and expresses the result as a percentage."
   ]
  },
  {
   "cell_type": "code",
   "execution_count": 22,
   "id": "298aeb16",
   "metadata": {},
   "outputs": [],
   "source": [
    "from nltk.book import text2 \n",
    "def percent(word, text):\n",
    "   word_count = text.count(word)\n",
    "   total_words = len(text)\n",
    "   word_percentage = (word_count / total_words) * 100\n",
    "   return word_percentage"
   ]
  },
  {
   "cell_type": "code",
   "execution_count": 27,
   "id": "7dfacb25",
   "metadata": {},
   "outputs": [
    {
     "name": "stdout",
     "output_type": "stream",
     "text": [
      "The word 'sense' occurs 0.02% of the time in the text.\n"
     ]
    }
   ],
   "source": [
    "word_percentage = percent('sense', text2)\n",
    "print(f\"The word 'sense' occurs {word_percentage:.2f}% of the time in the text.\")"
   ]
  },
  {
   "cell_type": "code",
   "execution_count": 28,
   "id": "f09dc884",
   "metadata": {},
   "outputs": [
    {
     "name": "stdout",
     "output_type": "stream",
     "text": [
      "The word 'apple' occurs 0.00% of the time in the text.\n"
     ]
    }
   ],
   "source": [
    "word_percentage = percent('apple', text2)\n",
    "print(f\"The word 'apple' occurs {word_percentage:.2f}% of the time in the text.\")"
   ]
  },
  {
   "cell_type": "markdown",
   "id": "186a40f0",
   "metadata": {},
   "source": [
    "6. We have been using sets to store vocabularies. Try the following Python expres- sion: set(sent3) < set(text1). Experiment with this using different arguments to set(). What does it do? Can you think of a practical application for this?\n"
   ]
  },
  {
   "cell_type": "markdown",
   "id": "ed217e42",
   "metadata": {},
   "source": [
    "The expression `set(sent3) < set(text1)` checks if every element in `sent3` is also in `text1`, and if `sent3` is a proper subset of `text1`. In other words, it checks if all the unique words in `sent3` are also present in `text1`.\n"
   ]
  },
  {
   "cell_type": "code",
   "execution_count": 17,
   "id": "d38ec998",
   "metadata": {},
   "outputs": [],
   "source": [
    "## 1. Using a Subset: If sent3 is a subset of text1:\n",
    "sent3 = ['My', 'name', 'is']\n",
    "text1 = ['My', 'name', 'is', 'Sai', 'Kumar', 'Gandham']"
   ]
  },
  {
   "cell_type": "markdown",
   "id": "79fe44f9",
   "metadata": {},
   "source": [
    "In this case, set(sent3) will be a proper subset of set(text1), and set(sent3) < set(text1) will evaluate to True."
   ]
  },
  {
   "cell_type": "code",
   "execution_count": null,
   "id": "cc50af0c",
   "metadata": {},
   "outputs": [],
   "source": [
    "## 2. Using a Superset: If text1 is a subset of sent3:\n",
    "sent3 = ['My', 'name', 'is', 'Sai', 'Kumar', 'Gandham']\n",
    "text1 = ['My', 'name', 'is']\n"
   ]
  },
  {
   "cell_type": "markdown",
   "id": "33b28b33",
   "metadata": {},
   "source": [
    "In this case, set(sent3) will not be a proper subset of set(text1), and set(sent3) < set(text1) will evaluate to False."
   ]
  },
  {
   "cell_type": "code",
   "execution_count": 18,
   "id": "2dcdf5e2",
   "metadata": {},
   "outputs": [],
   "source": [
    "## 3. Using Disjoint Sets: If sent3 and text1 have no common elements:\n",
    "sent3 = ['apple', 'banana', 'orange']\n",
    "text1 = ['cat', 'dog', 'elephant']"
   ]
  },
  {
   "cell_type": "markdown",
   "id": "30b779a5",
   "metadata": {},
   "source": [
    "In this case, set(sent3) will be disjoint from set(text1), and set(sent3) < set(text1) will evaluate to False."
   ]
  },
  {
   "cell_type": "code",
   "execution_count": 20,
   "id": "2bbd314a",
   "metadata": {},
   "outputs": [],
   "source": [
    "## 4.Using Empty Sets: If either sent3 or text1 is an empty list:\n",
    "sent3 = []\n",
    "text1 = ['the', 'sun', 'rises']"
   ]
  },
  {
   "cell_type": "markdown",
   "id": "cf2d0e4a",
   "metadata": {},
   "source": [
    "In this case, set(sent3) will always be a proper subset of set(text1), and set(sent3) < set(text1) will evaluate to True."
   ]
  },
  {
   "cell_type": "markdown",
   "id": "063f8546",
   "metadata": {},
   "source": [
    "Practically, this can be useful for tasks such as:\n",
    "- Checking if a particular document (represented by sent3) contains a subset of vocabulary used in a larger corpus (represented by text1).\n",
    "- Performing text similarity analysis by comparing the vocabulary used in different documents or texts.\n"
   ]
  },
  {
   "cell_type": "code",
   "execution_count": null,
   "id": "3bb6d7ea",
   "metadata": {},
   "outputs": [],
   "source": []
  }
 ],
 "metadata": {
  "kernelspec": {
   "display_name": "Python 3 (ipykernel)",
   "language": "python",
   "name": "python3"
  },
  "language_info": {
   "codemirror_mode": {
    "name": "ipython",
    "version": 3
   },
   "file_extension": ".py",
   "mimetype": "text/x-python",
   "name": "python",
   "nbconvert_exporter": "python",
   "pygments_lexer": "ipython3",
   "version": "3.9.13"
  }
 },
 "nbformat": 4,
 "nbformat_minor": 5
}
